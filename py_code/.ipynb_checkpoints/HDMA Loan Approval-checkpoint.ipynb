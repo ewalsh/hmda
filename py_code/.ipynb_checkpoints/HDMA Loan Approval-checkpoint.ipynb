{
 "cells": [
  {
   "cell_type": "markdown",
   "metadata": {},
   "source": [
    "# Loan Approval Prediction\n",
    "Edmund Walsh - May 10th, 2020\n",
    "\n",
    "## Introduction\n",
    "The project examines the data provided by the Home Mortgage Disclosure Act (HMDA) which requires mortgage lenders in the United States to disclose information about the mortgage lending decisions they have made. Specifically, we will be examining prediction of whether or not an application will be accepted or denied.\n",
    "\n",
    "This notebook is part of a larger project whose purpose goes beyond the acceptance prediction of mortgages. The focus of this project is more about the process and end-to-end engineering from raw data to results presentation. This notebook will focus on the data science approach and process while the larger project will also highlight:\n",
    "1. A polyglot approach highlight the strengths of different languages.\n",
    "2. Setting up a data pipeling using APIs, a PostGREsql database, and ETL functions.\n",
    "3. Building an app which uses the same process put forward in this notebook to scale the process.\n",
    "\n",
    "## Context \n",
    "While this project request didn't specifically state 'why' we are looking into this data, this project will work within the context of two important rationales.\n",
    "1. Mortgage due diligence is expensive and time intensive. A process that can more reliably expidite the process will save lenders significant time and resources.\n",
    "2. From a regulatory perspective and also importantly as Machine Intelligence becomse a larger and more common part of this process it is important for us to be aware of and highlight any bias."
   ]
  },
  {
   "cell_type": "code",
   "execution_count": null,
   "metadata": {},
   "outputs": [],
   "source": []
  }
 ],
 "metadata": {
  "kernelspec": {
   "display_name": "Python 3",
   "language": "python",
   "name": "python3"
  },
  "language_info": {
   "codemirror_mode": {
    "name": "ipython",
    "version": 3
   },
   "file_extension": ".py",
   "mimetype": "text/x-python",
   "name": "python",
   "nbconvert_exporter": "python",
   "pygments_lexer": "ipython3",
   "version": "3.6.9"
  }
 },
 "nbformat": 4,
 "nbformat_minor": 4
}
