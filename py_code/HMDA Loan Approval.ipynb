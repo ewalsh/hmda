{
 "cells": [
  {
   "cell_type": "markdown",
   "metadata": {},
   "source": [
    "# Loan Approval Prediction\n",
    "Edmund Walsh - May 10th, 2020\n",
    "\n",
    "## Introduction\n",
    "The project examines the data provided by the Home Mortgage Disclosure Act (HMDA) which requires mortgage lenders in the United States to disclose information about the mortgage lending decisions they have made. Specifically, we will be examining prediction of whether or not an application will be accepted or denied.\n",
    "\n",
    "This notebook is part of a larger project whose purpose goes beyond the acceptance prediction of mortgages. The focus of this project is more about the process and end-to-end engineering from raw data to results presentation. This notebook will focus on the data science approach and process while the larger project will also highlight:\n",
    "1. A polyglot approach highlight the strengths of different languages.\n",
    "2. Setting up a data pipeling using APIs, a PostGREsql database, and ETL functions.\n",
    "3. Building an app which uses the same process put forward in this notebook to scale the process.\n",
    "\n",
    "## Context \n",
    "While this project request didn't specifically state 'why' we are looking into this data, I will work within the context of two important rationales.\n",
    "1. Mortgage due diligence is expensive and time intensive. A process that can more reliably expidite the process will save lenders significant time and resources.\n",
    "2. From a regulatory perspective and also importantly as Machine Intelligence becomse a larger and more common part of this process it is important for us to be aware of and highlight any bias."
   ]
  },
  {
   "cell_type": "code",
   "execution_count": null,
   "metadata": {},
   "outputs": [],
   "source": []
  },
  {
   "cell_type": "code",
   "execution_count": 2,
   "metadata": {},
   "outputs": [],
   "source": [
    "import seed\n",
    "import pandas as pd\n",
    "import numpy as np\n",
    "import os\n",
    "import config"
   ]
  },
  {
   "cell_type": "code",
   "execution_count": 3,
   "metadata": {},
   "outputs": [
    {
     "name": "stdout",
     "output_type": "stream",
     "text": [
      "8dadaedad2b940dd8ffff397507286b479540d00\n"
     ]
    }
   ],
   "source": [
    "print(config.api_key)"
   ]
  },
  {
   "cell_type": "code",
   "execution_count": 4,
   "metadata": {},
   "outputs": [],
   "source": [
    "init_state = \"OH\"\n",
    "init_yr = 2016"
   ]
  },
  {
   "cell_type": "code",
   "execution_count": 10,
   "metadata": {},
   "outputs": [],
   "source": [
    "data_lar = seed.lar_pull(init_state, init_yr)"
   ]
  },
  {
   "cell_type": "code",
   "execution_count": 7,
   "metadata": {},
   "outputs": [
    {
     "data": {
      "text/html": [
       "<div>\n",
       "<style scoped>\n",
       "    .dataframe tbody tr th:only-of-type {\n",
       "        vertical-align: middle;\n",
       "    }\n",
       "\n",
       "    .dataframe tbody tr th {\n",
       "        vertical-align: top;\n",
       "    }\n",
       "\n",
       "    .dataframe thead th {\n",
       "        text-align: right;\n",
       "    }\n",
       "</style>\n",
       "<table border=\"1\" class=\"dataframe\">\n",
       "  <thead>\n",
       "    <tr style=\"text-align: right;\">\n",
       "      <th></th>\n",
       "      <th>action_taken</th>\n",
       "      <th>action_taken_name</th>\n",
       "      <th>agency_code</th>\n",
       "      <th>agency_abbr</th>\n",
       "      <th>agency_name</th>\n",
       "      <th>applicant_ethnicity</th>\n",
       "      <th>applicant_ethnicity_name</th>\n",
       "      <th>applicant_income_000s</th>\n",
       "      <th>applicant_race_1</th>\n",
       "      <th>applicant_race_2</th>\n",
       "      <th>...</th>\n",
       "      <th>state_name</th>\n",
       "      <th>hud_median_family_income</th>\n",
       "      <th>loan_amount_000s</th>\n",
       "      <th>number_of_1_to_4_family_units</th>\n",
       "      <th>number_of_owner_occupied_units</th>\n",
       "      <th>minority_population</th>\n",
       "      <th>population</th>\n",
       "      <th>rate_spread</th>\n",
       "      <th>tract_to_msamd_income</th>\n",
       "      <th>uuid</th>\n",
       "    </tr>\n",
       "  </thead>\n",
       "  <tbody>\n",
       "    <tr>\n",
       "      <th>0</th>\n",
       "      <td>1</td>\n",
       "      <td>Loan originated</td>\n",
       "      <td>7</td>\n",
       "      <td>HUD</td>\n",
       "      <td>Department of Housing and Urban Development</td>\n",
       "      <td>2</td>\n",
       "      <td>Not Hispanic or Latino</td>\n",
       "      <td>75</td>\n",
       "      <td>5</td>\n",
       "      <td>NaN</td>\n",
       "      <td>...</td>\n",
       "      <td>Ohio</td>\n",
       "      <td>66600</td>\n",
       "      <td>219</td>\n",
       "      <td>3165</td>\n",
       "      <td>2746</td>\n",
       "      <td>9.869999885559082</td>\n",
       "      <td>10439</td>\n",
       "      <td>NaN</td>\n",
       "      <td>148.33999633789062</td>\n",
       "      <td>3e322d81-9cee-47d3-83f9-c85379f3705a</td>\n",
       "    </tr>\n",
       "    <tr>\n",
       "      <th>1</th>\n",
       "      <td>3</td>\n",
       "      <td>Application denied by financial institution</td>\n",
       "      <td>7</td>\n",
       "      <td>HUD</td>\n",
       "      <td>Department of Housing and Urban Development</td>\n",
       "      <td>2</td>\n",
       "      <td>Not Hispanic or Latino</td>\n",
       "      <td>60</td>\n",
       "      <td>5</td>\n",
       "      <td>NaN</td>\n",
       "      <td>...</td>\n",
       "      <td>Ohio</td>\n",
       "      <td>69100</td>\n",
       "      <td>293</td>\n",
       "      <td>3131</td>\n",
       "      <td>2921</td>\n",
       "      <td>16.459999084472656</td>\n",
       "      <td>8742</td>\n",
       "      <td>NaN</td>\n",
       "      <td>172.69000244140625</td>\n",
       "      <td>33d2f820-0e7a-4af6-950b-74bb1642c8cd</td>\n",
       "    </tr>\n",
       "    <tr>\n",
       "      <th>2</th>\n",
       "      <td>1</td>\n",
       "      <td>Loan originated</td>\n",
       "      <td>7</td>\n",
       "      <td>HUD</td>\n",
       "      <td>Department of Housing and Urban Development</td>\n",
       "      <td>2</td>\n",
       "      <td>Not Hispanic or Latino</td>\n",
       "      <td>87</td>\n",
       "      <td>5</td>\n",
       "      <td>NaN</td>\n",
       "      <td>...</td>\n",
       "      <td>Ohio</td>\n",
       "      <td>66600</td>\n",
       "      <td>104</td>\n",
       "      <td>2320</td>\n",
       "      <td>1485</td>\n",
       "      <td>4.429999828338623</td>\n",
       "      <td>5508</td>\n",
       "      <td>NaN</td>\n",
       "      <td>89.05000305175781</td>\n",
       "      <td>0e5e6e8d-8e10-4429-a730-657063ef2a63</td>\n",
       "    </tr>\n",
       "    <tr>\n",
       "      <th>3</th>\n",
       "      <td>1</td>\n",
       "      <td>Loan originated</td>\n",
       "      <td>7</td>\n",
       "      <td>HUD</td>\n",
       "      <td>Department of Housing and Urban Development</td>\n",
       "      <td>2</td>\n",
       "      <td>Not Hispanic or Latino</td>\n",
       "      <td>86</td>\n",
       "      <td>5</td>\n",
       "      <td>NaN</td>\n",
       "      <td>...</td>\n",
       "      <td>Ohio</td>\n",
       "      <td>55400</td>\n",
       "      <td>153</td>\n",
       "      <td>948</td>\n",
       "      <td>809</td>\n",
       "      <td>2.490000009536743</td>\n",
       "      <td>2973</td>\n",
       "      <td>NaN</td>\n",
       "      <td>133.8300018310547</td>\n",
       "      <td>97453fe2-e14e-4741-8602-7280813f21c8</td>\n",
       "    </tr>\n",
       "    <tr>\n",
       "      <th>4</th>\n",
       "      <td>1</td>\n",
       "      <td>Loan originated</td>\n",
       "      <td>7</td>\n",
       "      <td>HUD</td>\n",
       "      <td>Department of Housing and Urban Development</td>\n",
       "      <td>2</td>\n",
       "      <td>Not Hispanic or Latino</td>\n",
       "      <td>46</td>\n",
       "      <td>5</td>\n",
       "      <td>NaN</td>\n",
       "      <td>...</td>\n",
       "      <td>Ohio</td>\n",
       "      <td>66600</td>\n",
       "      <td>206</td>\n",
       "      <td>2375</td>\n",
       "      <td>2210</td>\n",
       "      <td>5.340000152587891</td>\n",
       "      <td>6044</td>\n",
       "      <td>NaN</td>\n",
       "      <td>126.06999969482422</td>\n",
       "      <td>7e2607e5-bfe6-40a7-ae3f-c1334820d296</td>\n",
       "    </tr>\n",
       "  </tbody>\n",
       "</table>\n",
       "<p>5 rows × 79 columns</p>\n",
       "</div>"
      ],
      "text/plain": [
       "  action_taken                            action_taken_name agency_code  \\\n",
       "0            1                              Loan originated           7   \n",
       "1            3  Application denied by financial institution           7   \n",
       "2            1                              Loan originated           7   \n",
       "3            1                              Loan originated           7   \n",
       "4            1                              Loan originated           7   \n",
       "\n",
       "  agency_abbr                                  agency_name  \\\n",
       "0         HUD  Department of Housing and Urban Development   \n",
       "1         HUD  Department of Housing and Urban Development   \n",
       "2         HUD  Department of Housing and Urban Development   \n",
       "3         HUD  Department of Housing and Urban Development   \n",
       "4         HUD  Department of Housing and Urban Development   \n",
       "\n",
       "  applicant_ethnicity applicant_ethnicity_name applicant_income_000s  \\\n",
       "0                   2   Not Hispanic or Latino                    75   \n",
       "1                   2   Not Hispanic or Latino                    60   \n",
       "2                   2   Not Hispanic or Latino                    87   \n",
       "3                   2   Not Hispanic or Latino                    86   \n",
       "4                   2   Not Hispanic or Latino                    46   \n",
       "\n",
       "  applicant_race_1 applicant_race_2  ... state_name hud_median_family_income  \\\n",
       "0                5              NaN  ...       Ohio                    66600   \n",
       "1                5              NaN  ...       Ohio                    69100   \n",
       "2                5              NaN  ...       Ohio                    66600   \n",
       "3                5              NaN  ...       Ohio                    55400   \n",
       "4                5              NaN  ...       Ohio                    66600   \n",
       "\n",
       "  loan_amount_000s number_of_1_to_4_family_units  \\\n",
       "0              219                          3165   \n",
       "1              293                          3131   \n",
       "2              104                          2320   \n",
       "3              153                           948   \n",
       "4              206                          2375   \n",
       "\n",
       "  number_of_owner_occupied_units minority_population population rate_spread  \\\n",
       "0                           2746   9.869999885559082      10439         NaN   \n",
       "1                           2921  16.459999084472656       8742         NaN   \n",
       "2                           1485   4.429999828338623       5508         NaN   \n",
       "3                            809   2.490000009536743       2973         NaN   \n",
       "4                           2210   5.340000152587891       6044         NaN   \n",
       "\n",
       "  tract_to_msamd_income                                  uuid  \n",
       "0    148.33999633789062  3e322d81-9cee-47d3-83f9-c85379f3705a  \n",
       "1    172.69000244140625  33d2f820-0e7a-4af6-950b-74bb1642c8cd  \n",
       "2     89.05000305175781  0e5e6e8d-8e10-4429-a730-657063ef2a63  \n",
       "3     133.8300018310547  97453fe2-e14e-4741-8602-7280813f21c8  \n",
       "4    126.06999969482422  7e2607e5-bfe6-40a7-ae3f-c1334820d296  \n",
       "\n",
       "[5 rows x 79 columns]"
      ]
     },
     "execution_count": 7,
     "metadata": {},
     "output_type": "execute_result"
    }
   ],
   "source": [
    "data_lar.head()"
   ]
  },
  {
   "cell_type": "code",
   "execution_count": 9,
   "metadata": {},
   "outputs": [
    {
     "ename": "NameError",
     "evalue": "name 'data_lar' is not defined",
     "output_type": "error",
     "traceback": [
      "\u001b[0;31m---------------------------------------------------------------------------\u001b[0m",
      "\u001b[0;31mNameError\u001b[0m                                 Traceback (most recent call last)",
      "\u001b[0;32m<ipython-input-9-3d0ff98dae14>\u001b[0m in \u001b[0;36m<module>\u001b[0;34m\u001b[0m\n\u001b[0;32m----> 1\u001b[0;31m \u001b[0mcensus_df\u001b[0m \u001b[0;34m=\u001b[0m \u001b[0mseed\u001b[0m\u001b[0;34m.\u001b[0m\u001b[0mcensus_pull\u001b[0m\u001b[0;34m(\u001b[0m\u001b[0minit_state\u001b[0m\u001b[0;34m,\u001b[0m \u001b[0minit_yr\u001b[0m\u001b[0;34m,\u001b[0m \u001b[0mdata_lar\u001b[0m\u001b[0;34m,\u001b[0m \u001b[0mconfig\u001b[0m\u001b[0;34m.\u001b[0m\u001b[0mapi_key\u001b[0m\u001b[0;34m)\u001b[0m\u001b[0;34m\u001b[0m\u001b[0;34m\u001b[0m\u001b[0m\n\u001b[0m",
      "\u001b[0;31mNameError\u001b[0m: name 'data_lar' is not defined"
     ]
    }
   ],
   "source": [
    "census_df = seed.census_pull(init_state, init_yr, data_lar, config.api_key)"
   ]
  },
  {
   "cell_type": "code",
   "execution_count": 9,
   "metadata": {},
   "outputs": [
    {
     "data": {
      "text/html": [
       "<div>\n",
       "<style scoped>\n",
       "    .dataframe tbody tr th:only-of-type {\n",
       "        vertical-align: middle;\n",
       "    }\n",
       "\n",
       "    .dataframe tbody tr th {\n",
       "        vertical-align: top;\n",
       "    }\n",
       "\n",
       "    .dataframe thead th {\n",
       "        text-align: right;\n",
       "    }\n",
       "</style>\n",
       "<table border=\"1\" class=\"dataframe\">\n",
       "  <thead>\n",
       "    <tr style=\"text-align: right;\">\n",
       "      <th></th>\n",
       "      <th>state_code</th>\n",
       "      <th>state_abbr</th>\n",
       "      <th>county_code</th>\n",
       "      <th>county_name</th>\n",
       "      <th>year</th>\n",
       "      <th>EMP</th>\n",
       "      <th>ESTAB</th>\n",
       "      <th>PAYANN</th>\n",
       "      <th>POP</th>\n",
       "    </tr>\n",
       "  </thead>\n",
       "  <tbody>\n",
       "    <tr>\n",
       "      <th>0</th>\n",
       "      <td>39</td>\n",
       "      <td>OH</td>\n",
       "      <td>35</td>\n",
       "      <td>Cuyahoga County, Ohio</td>\n",
       "      <td>2016</td>\n",
       "      <td>3899081</td>\n",
       "      <td>195687</td>\n",
       "      <td>210202807</td>\n",
       "      <td>1250871</td>\n",
       "    </tr>\n",
       "    <tr>\n",
       "      <th>1</th>\n",
       "      <td>39</td>\n",
       "      <td>OH</td>\n",
       "      <td>49</td>\n",
       "      <td>Franklin County, Ohio</td>\n",
       "      <td>2016</td>\n",
       "      <td>3775265</td>\n",
       "      <td>169990</td>\n",
       "      <td>190400631</td>\n",
       "      <td>1138190</td>\n",
       "    </tr>\n",
       "    <tr>\n",
       "      <th>2</th>\n",
       "      <td>39</td>\n",
       "      <td>OH</td>\n",
       "      <td>85</td>\n",
       "      <td>Lake County, Ohio</td>\n",
       "      <td>2016</td>\n",
       "      <td>466581</td>\n",
       "      <td>35316</td>\n",
       "      <td>20664563</td>\n",
       "      <td>227255</td>\n",
       "    </tr>\n",
       "    <tr>\n",
       "      <th>3</th>\n",
       "      <td>39</td>\n",
       "      <td>OH</td>\n",
       "      <td>169</td>\n",
       "      <td>Wayne County, Ohio</td>\n",
       "      <td>2016</td>\n",
       "      <td>201710</td>\n",
       "      <td>14425</td>\n",
       "      <td>7926456</td>\n",
       "      <td>111289</td>\n",
       "    </tr>\n",
       "    <tr>\n",
       "      <th>4</th>\n",
       "      <td>39</td>\n",
       "      <td>OH</td>\n",
       "      <td>61</td>\n",
       "      <td>Hamilton County, Ohio</td>\n",
       "      <td>2016</td>\n",
       "      <td>2809075</td>\n",
       "      <td>125607</td>\n",
       "      <td>159909829</td>\n",
       "      <td>782863</td>\n",
       "    </tr>\n",
       "  </tbody>\n",
       "</table>\n",
       "</div>"
      ],
      "text/plain": [
       "   state_code state_abbr  county_code            county_name  year      EMP  \\\n",
       "0          39         OH           35  Cuyahoga County, Ohio  2016  3899081   \n",
       "1          39         OH           49  Franklin County, Ohio  2016  3775265   \n",
       "2          39         OH           85      Lake County, Ohio  2016   466581   \n",
       "3          39         OH          169     Wayne County, Ohio  2016   201710   \n",
       "4          39         OH           61  Hamilton County, Ohio  2016  2809075   \n",
       "\n",
       "    ESTAB     PAYANN      POP  \n",
       "0  195687  210202807  1250871  \n",
       "1  169990  190400631  1138190  \n",
       "2   35316   20664563   227255  \n",
       "3   14425    7926456   111289  \n",
       "4  125607  159909829   782863  "
      ]
     },
     "execution_count": 9,
     "metadata": {},
     "output_type": "execute_result"
    }
   ],
   "source": [
    "census_df.head()"
   ]
  },
  {
   "cell_type": "code",
   "execution_count": 5,
   "metadata": {},
   "outputs": [],
   "source": [
    "data_inst = seed.inst_pull(init_state, init_yr)"
   ]
  },
  {
   "cell_type": "code",
   "execution_count": 6,
   "metadata": {},
   "outputs": [
    {
     "data": {
      "text/html": [
       "<div>\n",
       "<style scoped>\n",
       "    .dataframe tbody tr th:only-of-type {\n",
       "        vertical-align: middle;\n",
       "    }\n",
       "\n",
       "    .dataframe tbody tr th {\n",
       "        vertical-align: top;\n",
       "    }\n",
       "\n",
       "    .dataframe thead th {\n",
       "        text-align: right;\n",
       "    }\n",
       "</style>\n",
       "<table border=\"1\" class=\"dataframe\">\n",
       "  <thead>\n",
       "    <tr style=\"text-align: right;\">\n",
       "      <th></th>\n",
       "      <th>activity_year</th>\n",
       "      <th>respondent_id</th>\n",
       "      <th>agency_code</th>\n",
       "      <th>agency_abbr</th>\n",
       "      <th>agency_name</th>\n",
       "      <th>federal_tax_id</th>\n",
       "      <th>respondent_name</th>\n",
       "      <th>respondent_address</th>\n",
       "      <th>respondent_city</th>\n",
       "      <th>respondent_state</th>\n",
       "      <th>...</th>\n",
       "      <th>parent_state</th>\n",
       "      <th>parent_zip_code</th>\n",
       "      <th>respondent_name_panel</th>\n",
       "      <th>respondent_city_panel</th>\n",
       "      <th>respondent_state_panel</th>\n",
       "      <th>other_lender_code</th>\n",
       "      <th>region_code</th>\n",
       "      <th>validity_error</th>\n",
       "      <th>assets</th>\n",
       "      <th>lar_count</th>\n",
       "    </tr>\n",
       "  </thead>\n",
       "  <tbody>\n",
       "    <tr>\n",
       "      <th>0</th>\n",
       "      <td>2016</td>\n",
       "      <td>0000000046</td>\n",
       "      <td>1</td>\n",
       "      <td>OCC</td>\n",
       "      <td>Office of the Comptroller of the Currency</td>\n",
       "      <td>31-4247738</td>\n",
       "      <td>FIRST NATIONAL BANK OF MCCONNE</td>\n",
       "      <td>86 N. KENNEBEC AVENUE, PO BOX 208</td>\n",
       "      <td>MCCONNELSVILLE</td>\n",
       "      <td>OH</td>\n",
       "      <td>...</td>\n",
       "      <td>OH</td>\n",
       "      <td>43756</td>\n",
       "      <td>FIRST NB</td>\n",
       "      <td>MCCONNELSVILLE</td>\n",
       "      <td>OH</td>\n",
       "      <td>0</td>\n",
       "      <td>3</td>\n",
       "      <td>N</td>\n",
       "      <td>138285</td>\n",
       "      <td>129</td>\n",
       "    </tr>\n",
       "    <tr>\n",
       "      <th>1</th>\n",
       "      <td>2016</td>\n",
       "      <td>0000000047</td>\n",
       "      <td>1</td>\n",
       "      <td>OCC</td>\n",
       "      <td>Office of the Comptroller of the Currency</td>\n",
       "      <td>35-0704860</td>\n",
       "      <td>FIRST FINANCIAL BANK NA</td>\n",
       "      <td>1401 S 3RD ST</td>\n",
       "      <td>TERRE HAUTE</td>\n",
       "      <td>IN</td>\n",
       "      <td>...</td>\n",
       "      <td>IN</td>\n",
       "      <td>47807</td>\n",
       "      <td>FIRST FNCL BK NA</td>\n",
       "      <td>TERRE HAUTE</td>\n",
       "      <td>IN</td>\n",
       "      <td>0</td>\n",
       "      <td>3</td>\n",
       "      <td>N</td>\n",
       "      <td>2882577</td>\n",
       "      <td>2695</td>\n",
       "    </tr>\n",
       "    <tr>\n",
       "      <th>2</th>\n",
       "      <td>2016</td>\n",
       "      <td>0000000086</td>\n",
       "      <td>1</td>\n",
       "      <td>OCC</td>\n",
       "      <td>Office of the Comptroller of the Currency</td>\n",
       "      <td>31-0294798</td>\n",
       "      <td>FIRST NATIONAL BANK OF GERMANT</td>\n",
       "      <td>17 NORTH MAIN STREET</td>\n",
       "      <td>GERMANTOWN</td>\n",
       "      <td>OH</td>\n",
       "      <td>...</td>\n",
       "      <td>NaN</td>\n",
       "      <td>NaN</td>\n",
       "      <td>FIRST NB</td>\n",
       "      <td>GERMANTOWN</td>\n",
       "      <td>OH</td>\n",
       "      <td>0</td>\n",
       "      <td>3</td>\n",
       "      <td>N</td>\n",
       "      <td>52364</td>\n",
       "      <td>38</td>\n",
       "    </tr>\n",
       "    <tr>\n",
       "      <th>3</th>\n",
       "      <td>2016</td>\n",
       "      <td>0000000324</td>\n",
       "      <td>1</td>\n",
       "      <td>OCC</td>\n",
       "      <td>Office of the Comptroller of the Currency</td>\n",
       "      <td>23-0916895</td>\n",
       "      <td>FIRST NATIONAL BANK AND TRUST</td>\n",
       "      <td>40 SOUTH STATE ST</td>\n",
       "      <td>NEWTOWN</td>\n",
       "      <td>PA</td>\n",
       "      <td>...</td>\n",
       "      <td>NaN</td>\n",
       "      <td>NaN</td>\n",
       "      <td>FIRST NB&amp;TC NEWTOWN</td>\n",
       "      <td>NEWTOWN</td>\n",
       "      <td>PA</td>\n",
       "      <td>0</td>\n",
       "      <td>1</td>\n",
       "      <td>N</td>\n",
       "      <td>860869</td>\n",
       "      <td>184</td>\n",
       "    </tr>\n",
       "    <tr>\n",
       "      <th>4</th>\n",
       "      <td>2016</td>\n",
       "      <td>0000000325</td>\n",
       "      <td>1</td>\n",
       "      <td>OCC</td>\n",
       "      <td>Office of the Comptroller of the Currency</td>\n",
       "      <td>24-0558097</td>\n",
       "      <td>FNB BANK, NA</td>\n",
       "      <td>354 MILL STREET</td>\n",
       "      <td>DANVILLE</td>\n",
       "      <td>PA</td>\n",
       "      <td>...</td>\n",
       "      <td>PA</td>\n",
       "      <td>17604</td>\n",
       "      <td>FNB BK NA</td>\n",
       "      <td>DANVILLE</td>\n",
       "      <td>PA</td>\n",
       "      <td>0</td>\n",
       "      <td>1</td>\n",
       "      <td>N</td>\n",
       "      <td>363285</td>\n",
       "      <td>270</td>\n",
       "    </tr>\n",
       "  </tbody>\n",
       "</table>\n",
       "<p>5 rows × 24 columns</p>\n",
       "</div>"
      ],
      "text/plain": [
       "  activity_year respondent_id agency_code agency_abbr  \\\n",
       "0          2016    0000000046           1         OCC   \n",
       "1          2016    0000000047           1         OCC   \n",
       "2          2016    0000000086           1         OCC   \n",
       "3          2016    0000000324           1         OCC   \n",
       "4          2016    0000000325           1         OCC   \n",
       "\n",
       "                                 agency_name federal_tax_id  \\\n",
       "0  Office of the Comptroller of the Currency     31-4247738   \n",
       "1  Office of the Comptroller of the Currency     35-0704860   \n",
       "2  Office of the Comptroller of the Currency     31-0294798   \n",
       "3  Office of the Comptroller of the Currency     23-0916895   \n",
       "4  Office of the Comptroller of the Currency     24-0558097   \n",
       "\n",
       "                  respondent_name                 respondent_address  \\\n",
       "0  FIRST NATIONAL BANK OF MCCONNE  86 N. KENNEBEC AVENUE, PO BOX 208   \n",
       "1         FIRST FINANCIAL BANK NA                      1401 S 3RD ST   \n",
       "2  FIRST NATIONAL BANK OF GERMANT               17 NORTH MAIN STREET   \n",
       "3   FIRST NATIONAL BANK AND TRUST                  40 SOUTH STATE ST   \n",
       "4                    FNB BANK, NA                    354 MILL STREET   \n",
       "\n",
       "  respondent_city respondent_state  ... parent_state parent_zip_code  \\\n",
       "0  MCCONNELSVILLE               OH  ...           OH           43756   \n",
       "1     TERRE HAUTE               IN  ...           IN           47807   \n",
       "2      GERMANTOWN               OH  ...          NaN             NaN   \n",
       "3         NEWTOWN               PA  ...          NaN             NaN   \n",
       "4        DANVILLE               PA  ...           PA           17604   \n",
       "\n",
       "  respondent_name_panel respondent_city_panel respondent_state_panel  \\\n",
       "0              FIRST NB        MCCONNELSVILLE                     OH   \n",
       "1      FIRST FNCL BK NA           TERRE HAUTE                     IN   \n",
       "2              FIRST NB            GERMANTOWN                     OH   \n",
       "3   FIRST NB&TC NEWTOWN               NEWTOWN                     PA   \n",
       "4             FNB BK NA              DANVILLE                     PA   \n",
       "\n",
       "  other_lender_code region_code validity_error   assets lar_count  \n",
       "0                 0           3              N   138285       129  \n",
       "1                 0           3              N  2882577      2695  \n",
       "2                 0           3              N    52364        38  \n",
       "3                 0           1              N   860869       184  \n",
       "4                 0           1              N   363285       270  \n",
       "\n",
       "[5 rows x 24 columns]"
      ]
     },
     "execution_count": 6,
     "metadata": {},
     "output_type": "execute_result"
    }
   ],
   "source": [
    "data_inst.head()"
   ]
  },
  {
   "cell_type": "code",
   "execution_count": 8,
   "metadata": {},
   "outputs": [
    {
     "ename": "NameError",
     "evalue": "name 'census_df' is not defined",
     "output_type": "error",
     "traceback": [
      "\u001b[0;31m---------------------------------------------------------------------------\u001b[0m",
      "\u001b[0;31mNameError\u001b[0m                                 Traceback (most recent call last)",
      "\u001b[0;32m<ipython-input-8-70cec8195b5b>\u001b[0m in \u001b[0;36m<module>\u001b[0;34m\u001b[0m\n\u001b[0;32m----> 1\u001b[0;31m \u001b[0mcensus_df\u001b[0m\u001b[0;34m.\u001b[0m\u001b[0mcolumns\u001b[0m\u001b[0;34m\u001b[0m\u001b[0;34m\u001b[0m\u001b[0m\n\u001b[0m",
      "\u001b[0;31mNameError\u001b[0m: name 'census_df' is not defined"
     ]
    }
   ],
   "source": [
    "census_df.columns"
   ]
  },
  {
   "cell_type": "code",
   "execution_count": 16,
   "metadata": {},
   "outputs": [],
   "source": [
    "data_inst = pd.read_csv(url_full, dtype=object)\n",
    "data_inst.to_csv('../data/load/hmda_inst.csv')"
   ]
  },
  {
   "cell_type": "code",
   "execution_count": 23,
   "metadata": {},
   "outputs": [
    {
     "name": "stdout",
     "output_type": "stream",
     "text": [
      "[ 35  49  85 169  61  93  43  17  41 117  59 165  51  45 129  29 103 109\n",
      " 161 101  95 175 113   5  27  89 141  73 145  83  25   7  57  33  37 123\n",
      " 157 155  71 115  55   3 149  67  69  91  11 131 151 119 159 153  99  39\n",
      "  97 107 147 135  31   1  63 143  47  53 139 173 127 171  77  15  21   9\n",
      " 137 125 111 167 133  23  75  65  79  81  13 163 121 105  87  19]\n"
     ]
    }
   ],
   "source": [
    "state_code = data_lar['state_code'].loc[0]\n",
    "c_ids = c_ids[(np.isnan(c_ids.astype(np.float)) == False)].astype(np.integer)\n",
    "census_results = []\n",
    "print(c_ids)"
   ]
  },
  {
   "cell_type": "code",
   "execution_count": 16,
   "metadata": {},
   "outputs": [],
   "source": [
    "api_key=config.api_key"
   ]
  },
  {
   "cell_type": "code",
   "execution_count": 18,
   "metadata": {},
   "outputs": [
    {
     "ename": "ValueError",
     "evalue": "Expected object or value",
     "output_type": "error",
     "traceback": [
      "\u001b[0;31m---------------------------------------------------------------------------\u001b[0m",
      "\u001b[0;31mValueError\u001b[0m                                Traceback (most recent call last)",
      "\u001b[0;32m<ipython-input-18-3ef1e7abd2a4>\u001b[0m in \u001b[0;36m<module>\u001b[0;34m\u001b[0m\n\u001b[1;32m      6\u001b[0m         \u001b[0mcensus_end\u001b[0m \u001b[0;34m=\u001b[0m \u001b[0;34m\"\"\"{}&in=state:{}&key={}\"\"\"\u001b[0m\u001b[0;34m.\u001b[0m\u001b[0mformat\u001b[0m\u001b[0;34m(\u001b[0m\u001b[0mcid_str\u001b[0m\u001b[0;34m,\u001b[0m \u001b[0mstate_code\u001b[0m\u001b[0;34m,\u001b[0m \u001b[0mapi_key\u001b[0m\u001b[0;34m)\u001b[0m\u001b[0;34m\u001b[0m\u001b[0;34m\u001b[0m\u001b[0m\n\u001b[1;32m      7\u001b[0m         \u001b[0mcensus_url\u001b[0m \u001b[0;34m=\u001b[0m \u001b[0mcensus_base\u001b[0m \u001b[0;34m+\u001b[0m \u001b[0mcensus_middle\u001b[0m \u001b[0;34m+\u001b[0m \u001b[0mcensus_end\u001b[0m\u001b[0;34m\u001b[0m\u001b[0;34m\u001b[0m\u001b[0m\n\u001b[0;32m----> 8\u001b[0;31m         \u001b[0mcensus_data\u001b[0m \u001b[0;34m=\u001b[0m \u001b[0mpd\u001b[0m\u001b[0;34m.\u001b[0m\u001b[0mread_json\u001b[0m\u001b[0;34m(\u001b[0m\u001b[0mcensus_url\u001b[0m\u001b[0;34m)\u001b[0m\u001b[0;34m\u001b[0m\u001b[0;34m\u001b[0m\u001b[0m\n\u001b[0m\u001b[1;32m      9\u001b[0m         \u001b[0mcensus_header\u001b[0m \u001b[0;34m=\u001b[0m \u001b[0mcensus_data\u001b[0m\u001b[0;34m.\u001b[0m\u001b[0mloc\u001b[0m\u001b[0;34m[\u001b[0m\u001b[0;36m0\u001b[0m\u001b[0;34m]\u001b[0m\u001b[0;34m\u001b[0m\u001b[0;34m\u001b[0m\u001b[0m\n\u001b[1;32m     10\u001b[0m         \u001b[0mcensus_data1\u001b[0m \u001b[0;34m=\u001b[0m \u001b[0mcensus_data\u001b[0m\u001b[0;34m.\u001b[0m\u001b[0mloc\u001b[0m\u001b[0;34m[\u001b[0m\u001b[0;36m1\u001b[0m\u001b[0;34m:\u001b[0m\u001b[0mcensus_data\u001b[0m\u001b[0;34m.\u001b[0m\u001b[0mshape\u001b[0m\u001b[0;34m[\u001b[0m\u001b[0;36m0\u001b[0m\u001b[0;34m]\u001b[0m\u001b[0;34m]\u001b[0m\u001b[0;34m\u001b[0m\u001b[0;34m\u001b[0m\u001b[0m\n",
      "\u001b[0;32m~/.local/lib/python3.6/site-packages/pandas/io/json/_json.py\u001b[0m in \u001b[0;36mread_json\u001b[0;34m(path_or_buf, orient, typ, dtype, convert_axes, convert_dates, keep_default_dates, numpy, precise_float, date_unit, encoding, lines, chunksize, compression)\u001b[0m\n\u001b[1;32m    590\u001b[0m         \u001b[0;32mreturn\u001b[0m \u001b[0mjson_reader\u001b[0m\u001b[0;34m\u001b[0m\u001b[0;34m\u001b[0m\u001b[0m\n\u001b[1;32m    591\u001b[0m \u001b[0;34m\u001b[0m\u001b[0m\n\u001b[0;32m--> 592\u001b[0;31m     \u001b[0mresult\u001b[0m \u001b[0;34m=\u001b[0m \u001b[0mjson_reader\u001b[0m\u001b[0;34m.\u001b[0m\u001b[0mread\u001b[0m\u001b[0;34m(\u001b[0m\u001b[0;34m)\u001b[0m\u001b[0;34m\u001b[0m\u001b[0;34m\u001b[0m\u001b[0m\n\u001b[0m\u001b[1;32m    593\u001b[0m     \u001b[0;32mif\u001b[0m \u001b[0mshould_close\u001b[0m\u001b[0;34m:\u001b[0m\u001b[0;34m\u001b[0m\u001b[0;34m\u001b[0m\u001b[0m\n\u001b[1;32m    594\u001b[0m         \u001b[0;32mtry\u001b[0m\u001b[0;34m:\u001b[0m\u001b[0;34m\u001b[0m\u001b[0;34m\u001b[0m\u001b[0m\n",
      "\u001b[0;32m~/.local/lib/python3.6/site-packages/pandas/io/json/_json.py\u001b[0m in \u001b[0;36mread\u001b[0;34m(self)\u001b[0m\n\u001b[1;32m    715\u001b[0m             \u001b[0mobj\u001b[0m \u001b[0;34m=\u001b[0m \u001b[0mself\u001b[0m\u001b[0;34m.\u001b[0m\u001b[0m_get_object_parser\u001b[0m\u001b[0;34m(\u001b[0m\u001b[0mself\u001b[0m\u001b[0;34m.\u001b[0m\u001b[0m_combine_lines\u001b[0m\u001b[0;34m(\u001b[0m\u001b[0mdata\u001b[0m\u001b[0;34m.\u001b[0m\u001b[0msplit\u001b[0m\u001b[0;34m(\u001b[0m\u001b[0;34m\"\\n\"\u001b[0m\u001b[0;34m)\u001b[0m\u001b[0;34m)\u001b[0m\u001b[0;34m)\u001b[0m\u001b[0;34m\u001b[0m\u001b[0;34m\u001b[0m\u001b[0m\n\u001b[1;32m    716\u001b[0m         \u001b[0;32melse\u001b[0m\u001b[0;34m:\u001b[0m\u001b[0;34m\u001b[0m\u001b[0;34m\u001b[0m\u001b[0m\n\u001b[0;32m--> 717\u001b[0;31m             \u001b[0mobj\u001b[0m \u001b[0;34m=\u001b[0m \u001b[0mself\u001b[0m\u001b[0;34m.\u001b[0m\u001b[0m_get_object_parser\u001b[0m\u001b[0;34m(\u001b[0m\u001b[0mself\u001b[0m\u001b[0;34m.\u001b[0m\u001b[0mdata\u001b[0m\u001b[0;34m)\u001b[0m\u001b[0;34m\u001b[0m\u001b[0;34m\u001b[0m\u001b[0m\n\u001b[0m\u001b[1;32m    718\u001b[0m         \u001b[0mself\u001b[0m\u001b[0;34m.\u001b[0m\u001b[0mclose\u001b[0m\u001b[0;34m(\u001b[0m\u001b[0;34m)\u001b[0m\u001b[0;34m\u001b[0m\u001b[0;34m\u001b[0m\u001b[0m\n\u001b[1;32m    719\u001b[0m         \u001b[0;32mreturn\u001b[0m \u001b[0mobj\u001b[0m\u001b[0;34m\u001b[0m\u001b[0;34m\u001b[0m\u001b[0m\n",
      "\u001b[0;32m~/.local/lib/python3.6/site-packages/pandas/io/json/_json.py\u001b[0m in \u001b[0;36m_get_object_parser\u001b[0;34m(self, json)\u001b[0m\n\u001b[1;32m    737\u001b[0m         \u001b[0mobj\u001b[0m \u001b[0;34m=\u001b[0m \u001b[0;32mNone\u001b[0m\u001b[0;34m\u001b[0m\u001b[0;34m\u001b[0m\u001b[0m\n\u001b[1;32m    738\u001b[0m         \u001b[0;32mif\u001b[0m \u001b[0mtyp\u001b[0m \u001b[0;34m==\u001b[0m \u001b[0;34m\"frame\"\u001b[0m\u001b[0;34m:\u001b[0m\u001b[0;34m\u001b[0m\u001b[0;34m\u001b[0m\u001b[0m\n\u001b[0;32m--> 739\u001b[0;31m             \u001b[0mobj\u001b[0m \u001b[0;34m=\u001b[0m \u001b[0mFrameParser\u001b[0m\u001b[0;34m(\u001b[0m\u001b[0mjson\u001b[0m\u001b[0;34m,\u001b[0m \u001b[0;34m**\u001b[0m\u001b[0mkwargs\u001b[0m\u001b[0;34m)\u001b[0m\u001b[0;34m.\u001b[0m\u001b[0mparse\u001b[0m\u001b[0;34m(\u001b[0m\u001b[0;34m)\u001b[0m\u001b[0;34m\u001b[0m\u001b[0;34m\u001b[0m\u001b[0m\n\u001b[0m\u001b[1;32m    740\u001b[0m \u001b[0;34m\u001b[0m\u001b[0m\n\u001b[1;32m    741\u001b[0m         \u001b[0;32mif\u001b[0m \u001b[0mtyp\u001b[0m \u001b[0;34m==\u001b[0m \u001b[0;34m\"series\"\u001b[0m \u001b[0;32mor\u001b[0m \u001b[0mobj\u001b[0m \u001b[0;32mis\u001b[0m \u001b[0;32mNone\u001b[0m\u001b[0;34m:\u001b[0m\u001b[0;34m\u001b[0m\u001b[0;34m\u001b[0m\u001b[0m\n",
      "\u001b[0;32m~/.local/lib/python3.6/site-packages/pandas/io/json/_json.py\u001b[0m in \u001b[0;36mparse\u001b[0;34m(self)\u001b[0m\n\u001b[1;32m    847\u001b[0m \u001b[0;34m\u001b[0m\u001b[0m\n\u001b[1;32m    848\u001b[0m         \u001b[0;32melse\u001b[0m\u001b[0;34m:\u001b[0m\u001b[0;34m\u001b[0m\u001b[0;34m\u001b[0m\u001b[0m\n\u001b[0;32m--> 849\u001b[0;31m             \u001b[0mself\u001b[0m\u001b[0;34m.\u001b[0m\u001b[0m_parse_no_numpy\u001b[0m\u001b[0;34m(\u001b[0m\u001b[0;34m)\u001b[0m\u001b[0;34m\u001b[0m\u001b[0;34m\u001b[0m\u001b[0m\n\u001b[0m\u001b[1;32m    850\u001b[0m \u001b[0;34m\u001b[0m\u001b[0m\n\u001b[1;32m    851\u001b[0m         \u001b[0;32mif\u001b[0m \u001b[0mself\u001b[0m\u001b[0;34m.\u001b[0m\u001b[0mobj\u001b[0m \u001b[0;32mis\u001b[0m \u001b[0;32mNone\u001b[0m\u001b[0;34m:\u001b[0m\u001b[0;34m\u001b[0m\u001b[0;34m\u001b[0m\u001b[0m\n",
      "\u001b[0;32m~/.local/lib/python3.6/site-packages/pandas/io/json/_json.py\u001b[0m in \u001b[0;36m_parse_no_numpy\u001b[0;34m(self)\u001b[0m\n\u001b[1;32m   1091\u001b[0m         \u001b[0;32mif\u001b[0m \u001b[0morient\u001b[0m \u001b[0;34m==\u001b[0m \u001b[0;34m\"columns\"\u001b[0m\u001b[0;34m:\u001b[0m\u001b[0;34m\u001b[0m\u001b[0;34m\u001b[0m\u001b[0m\n\u001b[1;32m   1092\u001b[0m             self.obj = DataFrame(\n\u001b[0;32m-> 1093\u001b[0;31m                 \u001b[0mloads\u001b[0m\u001b[0;34m(\u001b[0m\u001b[0mjson\u001b[0m\u001b[0;34m,\u001b[0m \u001b[0mprecise_float\u001b[0m\u001b[0;34m=\u001b[0m\u001b[0mself\u001b[0m\u001b[0;34m.\u001b[0m\u001b[0mprecise_float\u001b[0m\u001b[0;34m)\u001b[0m\u001b[0;34m,\u001b[0m \u001b[0mdtype\u001b[0m\u001b[0;34m=\u001b[0m\u001b[0;32mNone\u001b[0m\u001b[0;34m\u001b[0m\u001b[0;34m\u001b[0m\u001b[0m\n\u001b[0m\u001b[1;32m   1094\u001b[0m             )\n\u001b[1;32m   1095\u001b[0m         \u001b[0;32melif\u001b[0m \u001b[0morient\u001b[0m \u001b[0;34m==\u001b[0m \u001b[0;34m\"split\"\u001b[0m\u001b[0;34m:\u001b[0m\u001b[0;34m\u001b[0m\u001b[0;34m\u001b[0m\u001b[0m\n",
      "\u001b[0;31mValueError\u001b[0m: Expected object or value"
     ]
    }
   ],
   "source": [
    "for cid in c_ids:\n",
    "        cid_str = str(cid)\n",
    "        while(len(cid_str) < 3):\n",
    "            cid_str = '0' + cid_str\n",
    "\n",
    "        census_end = \"\"\"{}&in=state:{}&key={}\"\"\".format(cid_str, state_code, api_key)\n",
    "        census_url = census_base + census_middle + census_end\n",
    "        census_data = pd.read_json(census_url)\n",
    "        census_header = census_data.loc[0]\n",
    "        census_data1 = census_data.loc[1:census_data.shape[0]]\n",
    "        census_data1.columns = census_header\n",
    "        census_data1 = census_data1[(census_data1['EMPSZES'] == '001')]\n",
    "        census_sums = census_data1[['EMP','ESTAB','PAYANN']].apply(pd.to_numeric).sum(axis=0)\n",
    "        pop_base = 'https://api.census.gov/data/2010/dec/sf1?get='\n",
    "        pop_middle = 'H010001,NAME&for=county:'\n",
    "        pop_end = \"\"\"{}&in=state:{}&key={}\"\"\".format(cid_str,state_code,api_key)\n",
    "        pop_link = pop_base + pop_middle + pop_end\n",
    "        print(i)\n",
    "        print(pop_link)\n",
    "        pop_data = pd.read_json(pop_link)\n",
    "        cdict = {'state_code': pd.to_numeric(data_lar['state_code'][0]), 'state_abbr': init_state, \\\n",
    "         'county_code': pd.to_numeric(cid_str), 'county_name': pop_data.iloc[1,1], 'year': init_yr, \\\n",
    "        'EMP': census_sums['EMP'], 'ESTAB': census_sums['ESTAB'], 'PAYANN': census_sums['PAYANN'], \\\n",
    "        'POP': pd.to_numeric(pop_data.iloc[1,0])}\n",
    "        census_results.append(cdict)"
   ]
  },
  {
   "cell_type": "code",
   "execution_count": 20,
   "metadata": {},
   "outputs": [
    {
     "data": {
      "text/plain": [
       "(87, 9)"
      ]
     },
     "execution_count": 20,
     "metadata": {},
     "output_type": "execute_result"
    }
   ],
   "source": [
    "census_df = pd.DataFrame(census_results)\n",
    "census_df.shape"
   ]
  },
  {
   "cell_type": "code",
   "execution_count": null,
   "metadata": {},
   "outputs": [],
   "source": [
    "census_df.to_csv('../data/load/hmda_census.csv', index = False)"
   ]
  },
  {
   "cell_type": "code",
   "execution_count": 31,
   "metadata": {},
   "outputs": [],
   "source": [
    "census_data = pd.read_json(census_url)"
   ]
  },
  {
   "cell_type": "code",
   "execution_count": 112,
   "metadata": {},
   "outputs": [
    {
     "data": {
      "text/plain": [
       "293924"
      ]
     },
     "execution_count": 112,
     "metadata": {},
     "output_type": "execute_result"
    }
   ],
   "source": [
    "census_header = census_data.loc[0]\n",
    "census_data1 = census_data.loc[1:census_data.shape[0]]\n",
    "census_data1.columns = census_header\n",
    "census_data1 = census_data1[(census_data1['EMPSZES'] == '001')]\n",
    "census_sums = census_data1[['EMP','ESTAB','PAYANN']].apply(pd.to_numeric).sum(axis=0)\n",
    "census_sums['EMP']"
   ]
  },
  {
   "cell_type": "code",
   "execution_count": 82,
   "metadata": {},
   "outputs": [
    {
     "data": {
      "text/plain": [
       "'0'"
      ]
     },
     "execution_count": 82,
     "metadata": {},
     "output_type": "execute_result"
    }
   ],
   "source": [
    "fips = pd.read_csv('../data/load/hmda_fips.csv')\n",
    "fips.head()\n",
    "fips['state_code'].astype(str)[0]"
   ]
  },
  {
   "cell_type": "code",
   "execution_count": 89,
   "metadata": {},
   "outputs": [],
   "source": [
    "sub_fips = fips.loc[(fips['state_code'].astype(str) == data_lar['state_code'][0]) & \\\n",
    "                    (fips['county_code'].astype(str) == cid_str)]\n",
    "c_nm = sub_fips[(sub_fips['county_sub'] == 0)]['area_name'].astype(str)"
   ]
  },
  {
   "cell_type": "code",
   "execution_count": 120,
   "metadata": {},
   "outputs": [
    {
     "name": "stdout",
     "output_type": "stream",
     "text": [
      "https://api.census.gov/data/2010/dec/sf1?get=H010001,NAME&for=county:103&in=state:39&key=8dadaedad2b940dd8ffff397507286b479540d00\n"
     ]
    }
   ],
   "source": [
    "pop_base = 'https://api.census.gov/data/2010/dec/sf1?get='\n",
    "pop_middle = 'H010001,NAME&for=county:'\n",
    "pop_end = \"\"\"{}&in=state:{}&key={}\"\"\".format(cid_str,state_code,api_key)\n",
    "pop_link = pop_base + pop_middle + pop_end\n",
    "print(pop_link)"
   ]
  },
  {
   "cell_type": "code",
   "execution_count": 115,
   "metadata": {},
   "outputs": [
    {
     "data": {
      "text/plain": [
       "171134"
      ]
     },
     "execution_count": 115,
     "metadata": {},
     "output_type": "execute_result"
    }
   ],
   "source": [
    "pop_data = pd.read_json(pop_link)\n",
    "pd.to_numeric(pop_data.iloc[1,0])"
   ]
  },
  {
   "cell_type": "code",
   "execution_count": 119,
   "metadata": {},
   "outputs": [
    {
     "data": {
      "text/plain": [
       "{'state_code': 39,\n",
       " 'state_abbr': 'OH',\n",
       " 'county_code': 103,\n",
       " 'county_name': 'Medina County, Ohio',\n",
       " 'year': 2016,\n",
       " 'EMP': 293924,\n",
       " 'ESTAB': 23317,\n",
       " 'PAYANN': 11790930,\n",
       " 'POP': 171134}"
      ]
     },
     "execution_count": 119,
     "metadata": {},
     "output_type": "execute_result"
    }
   ],
   "source": [
    "cdict = {'state_code': pd.to_numeric(data_lar['state_code'][0]), 'state_abbr': state, \\\n",
    "         'county_code': pd.to_numeric(cid_str), 'county_name': pop_data.iloc[1,1], 'year': yr, \\\n",
    "        'EMP': census_sums['EMP'], 'ESTAB': census_sums['ESTAB'], 'PAYANN': census_sums['PAYANN'], \\\n",
    "        'POP': pd.to_numeric(pop_data.iloc[1,0])}\n",
    "cdict"
   ]
  }
 ],
 "metadata": {
  "kernelspec": {
   "display_name": "Python 3",
   "language": "python",
   "name": "python3"
  },
  "language_info": {
   "codemirror_mode": {
    "name": "ipython",
    "version": 3
   },
   "file_extension": ".py",
   "mimetype": "text/x-python",
   "name": "python",
   "nbconvert_exporter": "python",
   "pygments_lexer": "ipython3",
   "version": "3.6.9"
  }
 },
 "nbformat": 4,
 "nbformat_minor": 4
}
